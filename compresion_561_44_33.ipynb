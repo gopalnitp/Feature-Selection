{
 "cells": [
  {
   "cell_type": "code",
   "execution_count": 15,
   "metadata": {},
   "outputs": [],
   "source": [
    "import time"
   ]
  },
  {
   "cell_type": "markdown",
   "metadata": {},
   "source": [
    "# 561 Feature "
   ]
  },
  {
   "cell_type": "code",
   "execution_count": 17,
   "metadata": {},
   "outputs": [
    {
     "name": "stdout",
     "output_type": "stream",
     "text": [
      "(7352,)\n",
      "(2947,)\n",
      "acc 0.967424499491\n",
      "time in msecond 5.32558012009\n"
     ]
    }
   ],
   "source": [
    "start_time = time.time()\n",
    "import pandas as pd\n",
    "from sklearn import svm\n",
    "import numpy as np\n",
    "import scipy.io\n",
    "p=pd.read_csv('/home/gopal/Desktop/Project_f_section/data_Test/train.csv')\n",
    "t=pd.read_csv('/home/gopal/Desktop/Project_f_section/data_Test/test.csv')\n",
    "p=p.drop([\"Activity\"],axis=1)\n",
    "p=p.values\n",
    "t=t.drop([\"Activity\"],axis=1)\n",
    "t=t.values\n",
    "tr_d=np.array(p)\n",
    "\n",
    "te_d=np.array(t)\n",
    "tr=np.array(pd.read_csv('/home/gopal/Desktop/Project_f_section/data_BPSO/Ytrain.csv',header= None))\n",
    "tr_l=tr.ravel()\n",
    "print(tr_l.shape)\n",
    "te=np.array(pd.read_csv('/home/gopal/Desktop/Project_f_section/data_BPSO/Ytest.csv',header= None))\n",
    "te_l=te.ravel()\n",
    "print(te_l.shape)\n",
    "res=np.array(svm.LinearSVC().fit(tr_d,tr_l).predict(te_d))\n",
    "\n",
    "test=te_l.reshape(1,-1)\n",
    "f=(test==res)\n",
    "t=np.array(f)\n",
    "\n",
    "acc=np.count_nonzero(test==res)/float(len(te_l))\n",
    "print \"acc\",acc\n",
    "print \"time in msecond\",time.time()-start_time"
   ]
  },
  {
   "cell_type": "code",
   "execution_count": 18,
   "metadata": {},
   "outputs": [
    {
     "name": "stdout",
     "output_type": "stream",
     "text": [
      "                    precision    recall  f1-score   support\n",
      "\n",
      "            LAYING       1.00      1.00      1.00       537\n",
      "           SITTING       0.97      0.88      0.92       491\n",
      "          STANDING       0.91      0.97      0.94       532\n",
      "           WALKING       0.96      1.00      0.98       496\n",
      "WALKING_DOWNSTAIRS       1.00      0.98      0.99       420\n",
      "  WALKING_UPSTAIRS       0.98      0.96      0.97       471\n",
      "\n",
      "       avg / total       0.97      0.97      0.97      2947\n",
      "\n"
     ]
    }
   ],
   "source": [
    "from sklearn.metrics import classification_report\n",
    "class_name=[\"LAYING\",\"SITTING\",\"STANDING\",\"WALKING\",\"WALKING_DOWNSTAIRS\",\"WALKING_UPSTAIRS\"] \n",
    "print classification_report(te_l, res,target_names=class_name)"
   ]
  },
  {
   "cell_type": "markdown",
   "metadata": {},
   "source": [
    "# 42 feature "
   ]
  },
  {
   "cell_type": "code",
   "execution_count": 19,
   "metadata": {},
   "outputs": [
    {
     "name": "stdout",
     "output_type": "stream",
     "text": [
      "(7352, 42)\n",
      "(7352,)\n",
      "(2947,)\n",
      "time in msecond 0.581818819046\n",
      "('precision is', 0.9673993664758394)\n",
      "('recall is', 0.9667259033934151)\n",
      "('f1 is', 0.9668158785638701)\n",
      "('accuracy is', 0.9664065151001018)\n"
     ]
    }
   ],
   "source": [
    "start_time=time.time()\n",
    "import pandas as pd\n",
    "from sklearn.metrics import precision_score\n",
    "from sklearn.metrics import recall_score\n",
    "from sklearn.metrics import f1_score\n",
    "from sklearn import svm\n",
    "import numpy as np\n",
    "import scipy.io\n",
    "\n",
    "tr_d=np.array(pd.read_csv('/home/gopal/Desktop/Project_f_section/data_BPSO/data_train_42.csv',header= None))\n",
    "\n",
    "te_d=np.array(pd.read_csv('/home/gopal/Desktop/Project_f_section/data_BPSO/data_test_42.csv',header= None))\n",
    "\n",
    "print(tr_d.shape)\n",
    "tr=np.array(pd.read_csv('/home/gopal/Desktop/Project_f_section/data_BPSO/Ytrain.csv',header= None))\n",
    "tr_l=tr.ravel()\n",
    "print(tr_l.shape)\n",
    "te=np.array(pd.read_csv('/home/gopal/Desktop/Project_f_section/data_BPSO/Ytest.csv',header= None))\n",
    "\n",
    "te_l=te.ravel()\n",
    "print(te_l.shape)\n",
    "\n",
    "\"\"#res=np.array(AdaBoostClassifier(\n",
    "    #DecisionTreeClassifier(max_depth=2),\n",
    "    #n_estimators=600,\n",
    "    #learning_rate=1).fit(tr_d,tr_l).predict(te_d))\"\"\n",
    "\n",
    "res=np.array(svm.LinearSVC().fit(tr_d,tr_l).predict(te_d))\n",
    "test=te_l.reshape(1,-1)\n",
    "f=(test==res)\n",
    "acc=np.count_nonzero(test==res)/float(len(te_l))\n",
    "print \"time in msecond\",time.time()-start_time\n",
    "t=np.array(f)\n",
    "p1=precision_score(te_l, res, average='macro')\n",
    "p2=recall_score(te_l, res, average='macro')\n",
    "p3=f1_score(te_l, res, average='macro')\n",
    "#acc=np.count_nonzero(test==res)/float(len(te_l))\n",
    "\n",
    "print(\"precision is\",p1)\n",
    "print(\"recall is\",p2)\n",
    "print(\"f1 is\",p3)\n",
    "print(\"accuracy is\",acc)"
   ]
  },
  {
   "cell_type": "code",
   "execution_count": 12,
   "metadata": {},
   "outputs": [
    {
     "name": "stdout",
     "output_type": "stream",
     "text": [
      "                    precision    recall  f1-score   support\n",
      "\n",
      "            LAYING       1.00      1.00      1.00       537\n",
      "           SITTING       0.95      0.89      0.92       491\n",
      "          STANDING       0.91      0.95      0.93       532\n",
      "           WALKING       0.99      0.98      0.99       496\n",
      "WALKING_DOWNSTAIRS       0.98      0.98      0.98       420\n",
      "  WALKING_UPSTAIRS       0.98      1.00      0.99       471\n",
      "\n",
      "       avg / total       0.97      0.97      0.97      2947\n",
      "\n"
     ]
    }
   ],
   "source": [
    "from sklearn.metrics import classification_report\n",
    "class_name=[\"LAYING\",\"SITTING\",\"STANDING\",\"WALKING\",\"WALKING_DOWNSTAIRS\",\"WALKING_UPSTAIRS\"] \n",
    "print classification_report(te_l, res,target_names=class_name)"
   ]
  },
  {
   "cell_type": "markdown",
   "metadata": {},
   "source": [
    "# 33 Feature "
   ]
  },
  {
   "cell_type": "code",
   "execution_count": 20,
   "metadata": {},
   "outputs": [
    {
     "name": "stdout",
     "output_type": "stream",
     "text": [
      "(7352, 33)\n",
      "(7352,)\n",
      "(2947,)\n",
      "time msecond 0.413159132004\n",
      "('precision is', 0.9650244782624763)\n",
      "('recall is', 0.9635165340741182)\n",
      "('f1 is', 0.9638873056129311)\n",
      "('accuracy is', 0.9633525619273838)\n"
     ]
    }
   ],
   "source": [
    "start_time=time.time()\n",
    "import pandas as pd\n",
    "from sklearn.metrics import precision_score\n",
    "from sklearn.metrics import recall_score\n",
    "from sklearn.metrics import f1_score\n",
    "from sklearn import svm\n",
    "import numpy as np\n",
    "import scipy.io\n",
    "\n",
    "tr_d=np.array(pd.read_csv('/home/gopal/Desktop/Project_f_section/data_BPSO/data_train_33.csv',header= None))\n",
    "\n",
    "te_d=np.array(pd.read_csv('/home/gopal/Desktop/Project_f_section/data_BPSO/data_test_33.csv',header= None))\n",
    "\n",
    "print(tr_d.shape)\n",
    "tr=np.array(pd.read_csv('/home/gopal/Desktop/Project_f_section/data_BPSO/Ytrain.csv',header= None))\n",
    "tr_l=tr.ravel()\n",
    "print(tr_l.shape)\n",
    "te=np.array(pd.read_csv('/home/gopal/Desktop/Project_f_section/data_BPSO/Ytest.csv',header= None))\n",
    "\n",
    "te_l=te.ravel()\n",
    "print(te_l.shape)\n",
    "\n",
    "\"\"#res=np.array(AdaBoostClassifier(\n",
    "    #DecisionTreeClassifier(max_depth=2),\n",
    "    #n_estimators=600,\n",
    "    #learning_rate=1).fit(tr_d,tr_l).predict(te_d))\"\"\n",
    "\n",
    "res=np.array(svm.LinearSVC().fit(tr_d,tr_l).predict(te_d))\n",
    "test=te_l.reshape(1,-1)\n",
    "f=(test==res)\n",
    "acc=np.count_nonzero(test==res)/float(len(te_l))\n",
    "print \"time msecond\",time.time()-start_time\n",
    "\n",
    "t=np.array(f)\n",
    "p1=precision_score(te_l, res, average='macro')\n",
    "p2=recall_score(te_l, res, average='macro')\n",
    "p3=f1_score(te_l, res, average='macro')\n",
    "acc=np.count_nonzero(test==res)/float(len(te_l))\n",
    "\n",
    "print(\"precision is\",p1)\n",
    "print(\"recall is\",p2)\n",
    "print(\"f1 is\",p3)\n",
    "print(\"accuracy is\",acc)"
   ]
  },
  {
   "cell_type": "code",
   "execution_count": 21,
   "metadata": {},
   "outputs": [
    {
     "name": "stdout",
     "output_type": "stream",
     "text": [
      "                    precision    recall  f1-score   support\n",
      "\n",
      "            LAYING       1.00      1.00      1.00       537\n",
      "           SITTING       0.95      0.88      0.91       491\n",
      "          STANDING       0.89      0.95      0.92       532\n",
      "           WALKING       0.99      0.98      0.99       496\n",
      "WALKING_DOWNSTAIRS       0.99      0.98      0.99       420\n",
      "  WALKING_UPSTAIRS       0.97      0.99      0.98       471\n",
      "\n",
      "       avg / total       0.96      0.96      0.96      2947\n",
      "\n"
     ]
    }
   ],
   "source": [
    "from sklearn.metrics import classification_report\n",
    "class_name=[\"LAYING\",\"SITTING\",\"STANDING\",\"WALKING\",\"WALKING_DOWNSTAIRS\",\"WALKING_UPSTAIRS\"] \n",
    "print classification_report(te_l, res,target_names=class_name)"
   ]
  },
  {
   "cell_type": "code",
   "execution_count": null,
   "metadata": {},
   "outputs": [],
   "source": []
  },
  {
   "cell_type": "code",
   "execution_count": null,
   "metadata": {},
   "outputs": [],
   "source": []
  },
  {
   "cell_type": "code",
   "execution_count": null,
   "metadata": {},
   "outputs": [],
   "source": []
  },
  {
   "cell_type": "code",
   "execution_count": null,
   "metadata": {},
   "outputs": [],
   "source": []
  }
 ],
 "metadata": {
  "kernelspec": {
   "display_name": "Python 2",
   "language": "python",
   "name": "python2"
  },
  "language_info": {
   "codemirror_mode": {
    "name": "ipython",
    "version": 2
   },
   "file_extension": ".py",
   "mimetype": "text/x-python",
   "name": "python",
   "nbconvert_exporter": "python",
   "pygments_lexer": "ipython2",
   "version": "2.7.15rc1"
  }
 },
 "nbformat": 4,
 "nbformat_minor": 2
}
